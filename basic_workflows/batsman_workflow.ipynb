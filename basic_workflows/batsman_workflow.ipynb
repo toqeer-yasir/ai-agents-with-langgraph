{
 "cells": [
  {
   "cell_type": "code",
   "execution_count": 1,
   "id": "55717c9f",
   "metadata": {},
   "outputs": [],
   "source": [
    "from langgraph.graph import StateGraph, START, END\n",
    "from typing import TypedDict\n",
    "from IPython.display import Image"
   ]
  },
  {
   "cell_type": "code",
   "execution_count": 2,
   "id": "3a0f4b7c",
   "metadata": {},
   "outputs": [],
   "source": [
    "class BatsmanWorkflow(TypedDict):\n",
    "    balls: int\n",
    "    fours: int\n",
    "    sixes: int\n",
    "    score: int\n",
    "    sr: float\n",
    "    bp: float\n",
    "    bpb: float\n",
    "    summary: str"
   ]
  },
  {
   "cell_type": "code",
   "execution_count": 3,
   "id": "3f534edb",
   "metadata": {},
   "outputs": [],
   "source": [
    "# defining graph:\n",
    "graph = StateGraph(BatsmanWorkflow)"
   ]
  },
  {
   "cell_type": "code",
   "execution_count": null,
   "id": "ac4bcda8",
   "metadata": {},
   "outputs": [],
   "source": [
    "def Strike_rate(state: BatsmanWorkflow):\n",
    "    sr = round((state[\"score\"] / state[\"balls\"])* 100, 2)  \n",
    "    return {\"sr\": sr}\n"
   ]
  },
  {
   "cell_type": "code",
   "execution_count": null,
   "id": "48df5f96",
   "metadata": {},
   "outputs": [],
   "source": [
    "\n",
    "def Bals_per_boundry(state: BatsmanWorkflow):\n",
    "    bpb = round(state[\"balls\"] / (state[\"fours\"] + state[\"sixes\"]), 2)\n",
    "    return {\"bpb\": bpb}\n"
   ]
  },
  {
   "cell_type": "code",
   "execution_count": null,
   "id": "9930e267",
   "metadata": {},
   "outputs": [],
   "source": [
    "\n",
    "def Boundry_percentage(state: BatsmanWorkflow):\n",
    "    bp = round(((state[\"fours\"]*4) + (state[\"sixes\"]*6)) / state[\"score\"], 2)\n",
    "    return {\"bp\": bp}"
   ]
  },
  {
   "cell_type": "code",
   "execution_count": null,
   "id": "b85b7130",
   "metadata": {},
   "outputs": [],
   "source": [
    "def Summary(state: BatsmanWorkflow):\n",
    "    summary = f\"\"\"\n",
    "        Strikers rate is: {state[\"sr\"]}\\n\n",
    "        Balls per boundry is: {state[\"bpb\"]}\\n\n",
    "        Boundry percentage is: {state[\"bp\"]}\\n\n",
    "        \"\"\"\n",
    "    return {\"summary\": summary}"
   ]
  },
  {
   "cell_type": "code",
   "execution_count": 8,
   "id": "741c446c",
   "metadata": {},
   "outputs": [
    {
     "data": {
      "image/png": "[encoded data removed]",
      "text/plain": [
       "<IPython.core.display.Image object>"
      ]
     },
     "execution_count": 8,
     "metadata": {},
     "output_type": "execute_result"
    }
   ],
   "source": [
    "# graph nodes:\n",
    "graph.add_node(\"Strike_rate\", Strike_rate)\n",
    "graph.add_node(\"Boundry_percentage\", Boundry_percentage)\n",
    "graph.add_node(\"Bals_per_boundry\", Bals_per_boundry)\n",
    "graph.add_node(\"Summary\", Summary)\n",
    "\n",
    "# graph edges:\n",
    "graph.add_edge(START, \"Strike_rate\")\n",
    "graph.add_edge(START, \"Boundry_percentage\")\n",
    "graph.add_edge(START, \"Bals_per_boundry\")\n",
    "\n",
    "graph.add_edge(\"Strike_rate\", \"Summary\")\n",
    "graph.add_edge(\"Boundry_percentage\", \"Summary\")\n",
    "graph.add_edge(\"Bals_per_boundry\", \"Summary\")\n",
    "graph.add_edge(\"Summary\", END)\n",
    "\n",
    "\n",
    "\n",
    "# compile graph:\n",
    "workflow = graph.compile()\n",
    "Image(workflow.get_graph().draw_mermaid_png())"
   ]
  },
  {
   "cell_type": "code",
   "execution_count": 9,
   "id": "e49cb48b",
   "metadata": {},
   "outputs": [],
   "source": [
    "# input from the user:\n",
    "balls = int(input(\"Balls played: \"))\n",
    "fours = int(input(\"Fours scored: \"))\n",
    "sixes = int(input(\"Sixes scored: \"))\n",
    "score = int(input(\"Total score: \"))\n",
    "\n",
    "dict_to_pass = {\"balls\": balls,\n",
    "                \"fours\": fours,\n",
    "                \"sixes\": sixes,\n",
    "                \"score\": score\n",
    "                }"
   ]
  },
  {
   "cell_type": "code",
   "execution_count": 10,
   "id": "49830f8b",
   "metadata": {},
   "outputs": [],
   "source": [
    "# run graph:\n",
    "result = workflow.invoke(dict_to_pass)"
   ]
  },
  {
   "cell_type": "code",
   "execution_count": 11,
   "id": "d9bdfe97",
   "metadata": {},
   "outputs": [
    {
     "name": "stdout",
     "output_type": "stream",
     "text": [
      "\n",
      "        Strikers rate is: 666.67\n",
      "\n",
      "        Balls per boundry is: 2.14\n",
      "\n",
      "        Boundry percentage is: 0.34\n",
      "\n",
      "        \n"
     ]
    }
   ],
   "source": [
    "print(result[\"summary\"])"
   ]
  }
 ],
 "metadata": {
  "kernelspec": {
   "display_name": "langgraph_env",
   "language": "python",
   "name": "python3"
  },
  "language_info": {
   "codemirror_mode": {
    "name": "ipython",
    "version": 3
   },
   "file_extension": ".py",
   "mimetype": "text/x-python",
   "name": "python",
   "nbconvert_exporter": "python",
   "pygments_lexer": "ipython3",
   "version": "3.10.18"
  }
 },
 "nbformat": 4,
 "nbformat_minor": 5
}
